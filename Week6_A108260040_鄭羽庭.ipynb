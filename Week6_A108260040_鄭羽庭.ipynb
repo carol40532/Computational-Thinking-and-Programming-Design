{
  "nbformat": 4,
  "nbformat_minor": 0,
  "metadata": {
    "colab": {
      "name": "Week6-A108260040-鄭羽庭.ipynb",
      "provenance": [],
      "collapsed_sections": []
    },
    "kernelspec": {
      "name": "python3",
      "display_name": "Python 3"
    }
  },
  "cells": [
    {
      "cell_type": "code",
      "metadata": {
        "id": "0AMHEqVjA5C4",
        "colab_type": "code",
        "outputId": "e487cb15-e951-4653-d94c-f32f1bc2a35f",
        "colab": {
          "base_uri": "https://localhost:8080/",
          "height": 85
        }
      },
      "source": [
        "x = int(input('請輸入第一次期中考成績?'))\n",
        "y = int(input('請輸入第二次期中考成績?'))\n",
        "z = int(input('請輸入期末成績'))\n",
        "總分 = x + y + z\n",
        "平均 = (x + y + z)/3\n",
        "print('總分為', 總分,'平均為', 平均)"
      ],
      "execution_count": 0,
      "outputs": [
        {
          "output_type": "stream",
          "text": [
            "請輸入第一次期中考成績?75\n",
            "請輸入第二次期中考成績?80\n",
            "請輸入期末成績65\n",
            "總分為 220 平均為 73.33333333333333\n"
          ],
          "name": "stdout"
        }
      ]
    },
    {
      "cell_type": "code",
      "metadata": {
        "id": "FTbhOvkUB0ub",
        "colab_type": "code",
        "outputId": "e6accf29-9b44-42f3-d438-64f2a61d521e",
        "colab": {
          "base_uri": "https://localhost:8080/",
          "height": 102
        }
      },
      "source": [
        "w = int(input('請輸入幾尺'))\n",
        "print(w,'尺')\n",
        "t = int(input('請輸入幾吋'))\n",
        "print(t,'吋')\n",
        "f = (w*12+t)*2.54\n",
        "print('轉換成',f,'公分')"
      ],
      "execution_count": 0,
      "outputs": [
        {
          "output_type": "stream",
          "text": [
            "請輸入幾尺5\n",
            "5 尺\n",
            "請輸入幾吋8\n",
            "8 吋\n",
            "轉換成 172.72 公分\n"
          ],
          "name": "stdout"
        }
      ]
    },
    {
      "cell_type": "code",
      "metadata": {
        "id": "JzoIClPRCHZ6",
        "colab_type": "code",
        "outputId": "381a6f88-581b-430a-ba89-d1b5010cd93e",
        "colab": {
          "base_uri": "https://localhost:8080/",
          "height": 51
        }
      },
      "source": [
        "import math\n",
        "e = int(input('請輸入座號'))\n",
        "l = e/5 #每組五人\n",
        "print('組別為' ,math.ceil(l)) #若分組除下來有餘，則無條件進位"
      ],
      "execution_count": 0,
      "outputs": [
        {
          "output_type": "stream",
          "text": [
            "請輸入座號21\n",
            "組別為 5\n"
          ],
          "name": "stdout"
        }
      ]
    },
    {
      "cell_type": "code",
      "metadata": {
        "id": "nSkFTZ8KCNTH",
        "colab_type": "code",
        "outputId": "301ae8ca-944b-4ab6-a4d5-8f06cd32d504",
        "colab": {
          "base_uri": "https://localhost:8080/",
          "height": 51
        }
      },
      "source": [
        "u = int(input('請輸入購買飲料的罐數'))\n",
        "p = u/12 #計算幾打\n",
        "v = int(p)*200 #打的價錢\n",
        "y = int(p) #幾打的整數(例如兩打)\n",
        "l = 12*y  #打數乘上12\n",
        "h = (u - l)*20 #未滿一打的罐數\n",
        "x = h+v #打的價錢+未滿一打的罐數的價錢\n",
        "print('需花費', x) "
      ],
      "execution_count": 0,
      "outputs": [
        {
          "output_type": "stream",
          "text": [
            "請輸入購買飲料的罐數100\n",
            "需花費 1680\n"
          ],
          "name": "stdout"
        }
      ]
    },
    {
      "cell_type": "code",
      "metadata": {
        "id": "NqS3cZPICUp7",
        "colab_type": "code",
        "outputId": "b489da41-d58a-4f4d-c647-c4f82c9abd5b",
        "colab": {
          "base_uri": "https://localhost:8080/",
          "height": 153
        }
      },
      "source": [
        "print('1KB=',2**10,'Byte')\n",
        "print('1MB=',2**20,'Byte')\n",
        "print('1GB=',2**30,'Byte')\n",
        "print('1TB=',2**40,'Byte')\n",
        "print('1PB=',2**50,'Byte')\n",
        "print('1EB=',2**60,'Byte')\n",
        "print('1ZB=',2**70,'Bute')\n",
        "print('1YB=',2**80,'Byte')"
      ],
      "execution_count": 0,
      "outputs": [
        {
          "output_type": "stream",
          "text": [
            "1KB= 1024 Byte\n",
            "1MB= 1048576 Byte\n",
            "1GB= 1073741824 Byte\n",
            "1TB= 1099511627776 Byte\n",
            "1PB= 1125899906842624 Byte\n",
            "1EB= 1152921504606846976 Byte\n",
            "1ZB= 1180591620717411303424 Bute\n",
            "1YB= 1208925819614629174706176 Byte\n"
          ],
          "name": "stdout"
        }
      ]
    }
  ]
}