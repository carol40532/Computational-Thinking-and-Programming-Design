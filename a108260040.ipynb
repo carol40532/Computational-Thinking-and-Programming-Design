{
  "nbformat": 4,
  "nbformat_minor": 0,
  "metadata": {
    "colab": {
      "name": "a108260040 ",
      "provenance": []
    },
    "kernelspec": {
      "name": "python3",
      "display_name": "Python 3"
    }
  },
  "cells": [
    {
      "cell_type": "code",
      "metadata": {
        "id": "aP4O1xPnsJX2",
        "colab_type": "code",
        "colab": {}
      },
      "source": [
        "s = input('輸入一行文字')\n",
        "words = s . split('')\n",
        "s3 = s . title()\n",
        "print('將每個單字自首轉大寫後,獲得句子為', words)\n",
        "\n",
        "print('將英文句子以空白字元切割後,獲得單字', words)\n",
        "s2 = \" \" . join(words)\n",
        "print('以空白字元結合所有單字後,獲得句子後', s2)"
      ],
      "execution_count": 0,
      "outputs": []
    }
  ]
}