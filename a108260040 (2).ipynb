{
  "nbformat": 4,
  "nbformat_minor": 0,
  "metadata": {
    "colab": {
      "name": "a108260040.ipynb",
      "provenance": []
    },
    "kernelspec": {
      "name": "python3",
      "display_name": "Python 3"
    }
  },
  "cells": [
    {
      "cell_type": "code",
      "metadata": {
        "id": "0gCoYNsjtHie",
        "colab_type": "code",
        "colab": {
          "base_uri": "https://localhost:8080/",
          "height": 102
        },
        "outputId": "cad5b1ce-c45a-4cd2-a153-f4823316cfa5"
      },
      "source": [
        "sum = 0\n",
        "for i in range(1, 10, 2):\n",
        "    sum = sum + i\n",
        "    print(\"When i is\", i, \",the sum is\" , sum)\n",
        "    "
      ],
      "execution_count": 1,
      "outputs": [
        {
          "output_type": "stream",
          "text": [
            "When i is 1 ,the sum is 1\n",
            "When i is 3 ,the sum is 4\n",
            "When i is 5 ,the sum is 9\n",
            "When i is 7 ,the sum is 16\n",
            "When i is 9 ,the sum is 25\n"
          ],
          "name": "stdout"
        }
      ]
    },
    {
      "cell_type": "code",
      "metadata": {
        "id": "tdgxQom8u72O",
        "colab_type": "code",
        "colab": {}
      },
      "source": [
        "sum = 0\n",
        "for i in range(1, n+1, 1):\n",
        "    sum = sum + i**2\n",
        "    print(sum)"
      ],
      "execution_count": 0,
      "outputs": []
    },
    {
      "cell_type": "code",
      "metadata": {
        "id": "b7sjpdbbxA0Q",
        "colab_type": "code",
        "colab": {}
      },
      "source": [
        "start = 3\n",
        "end = 13\n",
        "step = 3\n",
        "sum = 0\n",
        "for i in range (start, end, step)\n",
        "     sum = sum + i\n",
        "     print(sum)"
      ],
      "execution_count": 0,
      "outputs": []
    },
    {
      "cell_type": "code",
      "metadata": {
        "id": "7V2krwgqyJqG",
        "colab_type": "code",
        "colab": {
          "base_uri": "https://localhost:8080/",
          "height": 54
        },
        "outputId": "4ac61c5c-3c5e-4784-e0a0-d236b892db45"
      },
      "source": [
        "for i in range(1, 10, 1):\n",
        "    for j in range(1, 10, 1):\n",
        "        print(i, '*', j, '=', i * j, '\\t', sep = '', end = '')\n"
      ],
      "execution_count": 5,
      "outputs": [
        {
          "output_type": "stream",
          "text": [
            "1*1=1\t1*2=2\t1*3=3\t1*4=4\t1*5=5\t1*6=6\t1*7=7\t1*8=8\t1*9=9\t2*1=2\t2*2=4\t2*3=6\t2*4=8\t2*5=10\t2*6=12\t2*7=14\t2*8=16\t2*9=18\t3*1=3\t3*2=6\t3*3=9\t3*4=12\t3*5=15\t3*6=18\t3*7=21\t3*8=24\t3*9=27\t4*1=4\t4*2=8\t4*3=12\t4*4=16\t4*5=20\t4*6=24\t4*7=28\t4*8=32\t4*9=36\t5*1=5\t5*2=10\t5*3=15\t5*4=20\t5*5=25\t5*6=30\t5*7=35\t5*8=40\t5*9=45\t6*1=6\t6*2=12\t6*3=18\t6*4=24\t6*5=30\t6*6=36\t6*7=42\t6*8=48\t6*9=54\t7*1=7\t7*2=14\t7*3=21\t7*4=28\t7*5=35\t7*6=42\t7*7=49\t7*8=56\t7*9=63\t8*1=8\t8*2=16\t8*3=24\t8*4=32\t8*5=40\t8*6=48\t8*7=56\t8*8=64\t8*9=72\t9*1=9\t9*2=18\t9*3=27\t9*4=36\t9*5=45\t9*6=54\t9*7=63\t9*8=72\t9*9=81\t"
          ],
          "name": "stdout"
        }
      ]
    },
    {
      "cell_type": "code",
      "metadata": {
        "id": "si_kx8NHz8z9",
        "colab_type": "code",
        "colab": {}
      },
      "source": [
        "for i in range(6):\n",
        "    print(i)\n",
        "    if i == 3"
      ],
      "execution_count": 0,
      "outputs": []
    },
    {
      "cell_type": "code",
      "metadata": {
        "id": "qwVpggqu3Qh4",
        "colab_type": "code",
        "colab": {}
      },
      "source": [
        "n = 0\n",
        "for i in range(6):\n",
        "    print(i)\n",
        "    if i % 2 == 0:\n",
        "       continue\n",
        "       print(i, \"is even\")\n",
        "    else:\n",
        "        continue\n",
        "        print(i, \"is odd\")"
      ],
      "execution_count": 0,
      "outputs": []
    }
  ]
}