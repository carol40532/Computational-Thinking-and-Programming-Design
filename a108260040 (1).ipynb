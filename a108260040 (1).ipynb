{
  "nbformat": 4,
  "nbformat_minor": 0,
  "metadata": {
    "colab": {
      "name": "a108260040",
      "provenance": []
    },
    "kernelspec": {
      "name": "python3",
      "display_name": "Python 3"
    }
  },
  "cells": [
    {
      "cell_type": "code",
      "metadata": {
        "id": "UKf7cb9cxTzE",
        "colab_type": "code",
        "colab": {}
      },
      "source": [
        "t1 = ()\n",
        "print(t1)"
      ],
      "execution_count": 0,
      "outputs": []
    },
    {
      "cell_type": "code",
      "metadata": {
        "id": "hdCpwHuqySNs",
        "colab_type": "code",
        "colab": {}
      },
      "source": [
        "t2 = 1, 2, 3\n",
        "print(t2)"
      ],
      "execution_count": 0,
      "outputs": []
    },
    {
      "cell_type": "code",
      "metadata": {
        "id": "iSIl87aGyYb_",
        "colab_type": "code",
        "colab": {}
      },
      "source": [
        "t3 = (1, 2, 3)\n",
        "print(t3)"
      ],
      "execution_count": 0,
      "outputs": []
    },
    {
      "cell_type": "code",
      "metadata": {
        "id": "dC5Kp1Mpyhsx",
        "colab_type": "code",
        "colab": {}
      },
      "source": [
        "t3 = 1, 2, 3\n",
        "a, b, c = t3\n",
        "print(\"a=\", a, \"b=\", b,\"c=\", c)\n"
      ],
      "execution_count": 0,
      "outputs": []
    },
    {
      "cell_type": "code",
      "metadata": {
        "id": "BEH4yGYby78S",
        "colab_type": "code",
        "colab": {}
      },
      "source": [
        "a = 10\n",
        "b = 20\n",
        "print('交換前', 'a=', a, 'b=', b)\n",
        "a, b = b,a\n",
        "print('交換後', 'a=', a, 'b=', b)"
      ],
      "execution_count": 0,
      "outputs": []
    },
    {
      "cell_type": "code",
      "metadata": {
        "id": "9IZT5t6F0R-G",
        "colab_type": "code",
        "colab": {}
      },
      "source": [
        "list1 = [1,2,3,4]\n",
        "t4 = tuple(list1)\n",
        "print(t4)"
      ],
      "execution_count": 0,
      "outputs": []
    },
    {
      "cell_type": "code",
      "metadata": {
        "id": "bABRnHWL0eMC",
        "colab_type": "code",
        "colab": {}
      },
      "source": [
        "t4 = (1,2,3,4)\n",
        "t5 = (t4,5,6)\n",
        "print(t5)\n",
        "print(len(t5))\n",
        "print(t5[0][0])"
      ],
      "execution_count": 0,
      "outputs": []
    },
    {
      "cell_type": "code",
      "metadata": {
        "id": "7PzS5c2l005u",
        "colab_type": "code",
        "colab": {}
      },
      "source": [
        "t6 = ('z', )\n",
        "print(t6)\n"
      ],
      "execution_count": 0,
      "outputs": []
    },
    {
      "cell_type": "code",
      "metadata": {
        "id": "3Z2vJ9cW09kh",
        "colab_type": "code",
        "colab": {}
      },
      "source": [
        "shoplist = ['牛奶', '蛋', '咖啡豆', '西瓜', '鳳梨']\n",
        "print('購物清單shoplist為')\n",
        "print(shoplist)"
      ],
      "execution_count": 0,
      "outputs": []
    },
    {
      "cell_type": "code",
      "metadata": {
        "id": "RKU7kxFb1tWp",
        "colab_type": "code",
        "colab": {}
      },
      "source": [
        "shoplist = ['牛奶', '蛋', '咖啡豆', '西瓜', '鳳梨']\n",
        "print('購物清單shoplist[0]為', shoplist[0])"
      ],
      "execution_count": 0,
      "outputs": []
    },
    {
      "cell_type": "code",
      "metadata": {
        "id": "khhV5a6k15gq",
        "colab_type": "code",
        "colab": {}
      },
      "source": [
        "shoplist = ['牛奶', '蛋', '咖啡豆', '西瓜', '鳳梨']\n",
        "print('購物清單shoplist的長度為', len(shoplist))"
      ],
      "execution_count": 0,
      "outputs": []
    },
    {
      "cell_type": "code",
      "metadata": {
        "id": "TYGv-7do2Dn2",
        "colab_type": "code",
        "colab": {}
      },
      "source": [
        "shoplist = ['牛奶', '蛋', '咖啡豆', '西瓜', '鳳梨']\n",
        "shoplist[1] = '皮蛋'\n",
        "print(\"執行shoplist[1] = '皮蛋'後\")\n",
        "print(shoplist)"
      ],
      "execution_count": 0,
      "outputs": []
    }
  ]
}