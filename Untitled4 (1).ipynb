{
  "nbformat": 4,
  "nbformat_minor": 0,
  "metadata": {
    "colab": {
      "name": "Untitled4.ipynb",
      "provenance": [],
      "collapsed_sections": []
    },
    "kernelspec": {
      "name": "python3",
      "display_name": "Python 3"
    }
  },
  "cells": [
    {
      "cell_type": "code",
      "metadata": {
        "id": "svo4wg8TqfVd",
        "colab_type": "code",
        "colab": {
          "base_uri": "https://localhost:8080/",
          "height": 51
        },
        "outputId": "3f5a0782-7694-4bcf-cf2b-fa55c6041de0"
      },
      "source": [
        "answer = '123'\n",
        "while True:\n",
        "  password = input('Enter Your Password:')\n",
        "  if password == answer:\n",
        "      print('correct')\n",
        "      break\n",
        "  else:\n",
        "      print('Fail, Try Again')"
      ],
      "execution_count": 1,
      "outputs": [
        {
          "output_type": "stream",
          "text": [
            "Enter Your Password:123\n",
            "correct\n"
          ],
          "name": "stdout"
        }
      ]
    },
    {
      "cell_type": "code",
      "metadata": {
        "id": "3H2kdngvsHny",
        "colab_type": "code",
        "colab": {
          "base_uri": "https://localhost:8080/",
          "height": 68
        },
        "outputId": "27ae9df7-96bf-4fef-8395-b53e401ba896"
      },
      "source": [
        "\n",
        "while True:\n",
        "    帳號 = input(\"輸入你的帳號: \")\n",
        "    密碼 = input(\"輸入你的密碼: \")\n",
        "    if(帳號 == 'abc' and 密碼 == '123'):\n",
        "      print(\"correct\")\n",
        "      break\n",
        "    else:\n",
        "       print(\"fall, try again\")"
      ],
      "execution_count": 10,
      "outputs": [
        {
          "output_type": "stream",
          "text": [
            "輸入你的帳號: abc\n",
            "輸入你的密碼: 123\n",
            "correct\n"
          ],
          "name": "stdout"
        }
      ]
    },
    {
      "cell_type": "code",
      "metadata": {
        "id": "aSA6iuHox9Hu",
        "colab_type": "code",
        "colab": {
          "base_uri": "https://localhost:8080/",
          "height": 153
        },
        "outputId": "c8959ac5-322f-476f-c7bc-64f95798e766"
      },
      "source": [
        "password = \"123\"\n",
        "times = 0\n",
        "\n",
        "\n",
        "while times <= 3 :\n",
        "  answer = input(\"enter your password:\")\n",
        "  if answer == password:\n",
        "       print(\"登入成功\")\n",
        "       break\n",
        "  else:\n",
        "      times = times + 1\n",
        "      chance = 3 - times\n",
        "      print(\"密碼錯誤!還有\", chance, \"次機會\")\n",
        "      "
      ],
      "execution_count": 13,
      "outputs": [
        {
          "output_type": "stream",
          "text": [
            "enter your password:456\n",
            "密碼錯誤!還有 2 次機會\n",
            "enter your password:798\n",
            "密碼錯誤!還有 1 次機會\n",
            "enter your password:89+\n",
            "密碼錯誤!還有 0 次機會\n",
            "enter your password:87968\n",
            "密碼錯誤!還有 -1 次機會\n"
          ],
          "name": "stdout"
        }
      ]
    }
  ]
}